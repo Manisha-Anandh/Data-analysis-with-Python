{
  "nbformat": 4,
  "nbformat_minor": 0,
  "metadata": {
    "colab": {
      "provenance": []
    },
    "kernelspec": {
      "name": "python3",
      "display_name": "Python 3"
    },
    "language_info": {
      "name": "python"
    }
  },
  "cells": [
    {
      "cell_type": "code",
      "source": [
        "import pandas as pd\n",
        "import numpy as np\n",
        "from sklearn.model_selection import train_test_split\n",
        "from sklearn.preprocessing import StandardScaler\n",
        "from sklearn.decomposition import PCA\n",
        "from sklearn.ensemble import RandomForestClassifier\n",
        "from sklearn.metrics import accuracy_score\n",
        "from sklearn.feature_selection import SelectFromModel\n",
        "import matplotlib.pyplot as plt"
      ],
      "metadata": {
        "id": "RFDgt6CPQGFh"
      },
      "execution_count": 2,
      "outputs": []
    },
    {
      "cell_type": "code",
      "source": [
        "\n",
        "# Load sample dataset\n",
        "data = pd.read_csv('/heart.csv')"
      ],
      "metadata": {
        "id": "qnfoWHIKRD9g"
      },
      "execution_count": 9,
      "outputs": []
    },
    {
      "cell_type": "code",
      "source": [
        "\n",
        "X = data.drop('trestbps', axis=1)\n",
        "y = data['trestbps']\n",
        "\n",
        "# Split the data into training and testing sets\n",
        "X_train, X_test, y_train, y_test = train_test_split(X, y, test_size=0.2, random_state=42)\n",
        "\n",
        "# Standardize the features\n",
        "scaler = StandardScaler()\n",
        "X_train_scaled = scaler.fit_transform(X_train)\n",
        "X_test_scaled = scaler.transform(X_test)\n",
        "\n",
        "# Apply PCA for dimensionality reduction\n",
        "pca = PCA(n_components=0.95)  # Retain 95% of variance\n",
        "X_train_pca = pca.fit_transform(X_train_scaled)\n",
        "X_test_pca = pca.transform(X_test_scaled)\n",
        "\n",
        "# Train a Random Forest model and evaluate performance with PCA features\n",
        "rf_pca = RandomForestClassifier(random_state=42)\n",
        "rf_pca.fit(X_train_pca, y_train)\n",
        "y_pred_pca = rf_pca.predict(X_test_pca)\n",
        "accuracy_pca = accuracy_score(y_test, y_pred_pca)\n",
        "print(\"Accuracy with PCA features:\", accuracy_pca)\n",
        "\n",
        "# Use feature importance for feature selection\n",
        "rf = RandomForestClassifier(random_state=42)\n",
        "rf.fit(X_train_scaled, y_train)\n",
        "\n",
        "# Select features based on importance\n",
        "selector = SelectFromModel(rf, threshold='median')  # Select features with importance above median\n",
        "X_train_selected = selector.fit_transform(X_train_scaled, y_train)\n",
        "X_test_selected = selector.transform(X_test_scaled)\n",
        "\n",
        "# Train a Random Forest model and evaluate performance with selected features\n",
        "rf_selected = RandomForestClassifier(random_state=42)\n",
        "rf_selected.fit(X_train_selected, y_train)\n",
        "y_pred_selected = rf_selected.predict(X_test_selected)\n",
        "accuracy_selected = accuracy_score(y_test, y_pred_selected)\n",
        "print(\"Accuracy with selected features:\", accuracy_selected)\n",
        "\n",
        "# Plot feature importances\n",
        "importances = rf.feature_importances_\n",
        "indices = np.argsort(importances)[::-1]\n",
        "plt.figure()\n",
        "plt.title(\"Feature Importances\")\n",
        "plt.bar(range(X_train.shape[1]), importances[indices], align=\"center\")\n",
        "plt.xticks(range(X_train.shape[1]), X_train.columns[indices], rotation=90)\n",
        "plt.xlim([-1, X_train.shape[1]])\n",
        "plt.tight_layout()\n",
        "plt.show()\n"
      ],
      "metadata": {
        "colab": {
          "base_uri": "https://localhost:8080/",
          "height": 522
        },
        "outputId": "32aebcfd-139e-4851-ce34-62c2987e628b",
        "id": "wxJE88QLSUPf"
      },
      "execution_count": 10,
      "outputs": [
        {
          "output_type": "stream",
          "name": "stdout",
          "text": [
            "Accuracy with PCA features: 0.9707317073170731\n",
            "Accuracy with selected features: 0.9707317073170731\n"
          ]
        },
        {
          "output_type": "display_data",
          "data": {
            "text/plain": [
              "<Figure size 640x480 with 1 Axes>"
            ],
            "image/png": "[encoded data removed]"
          },
          "metadata": {}
        }
      ]
    },
    {
      "cell_type": "code",
      "source": [
        "#Compare performances\n",
        "print(f'Accuracy with original features: {accuracy_score(y_test, rf.predict(X_test)):.4f}')\n",
        "print(f'Accuracy with PCA features: {accuracy_pca:.4f}')\n",
        "print(f'Accuracy with selected features: {accuracy_selected:.4f}')\n"
      ],
      "metadata": {
        "colab": {
          "base_uri": "https://localhost:8080/"
        },
        "id": "awTWY4KnRxjC",
        "outputId": "830eeedd-9d18-4447-9c7f-0a2f19f605c0"
      },
      "execution_count": 11,
      "outputs": [
        {
          "output_type": "stream",
          "name": "stdout",
          "text": [
            "Accuracy with original features: 0.1024\n",
            "Accuracy with PCA features: 0.9707\n",
            "Accuracy with selected features: 0.9707\n"
          ]
        },
        {
          "output_type": "stream",
          "name": "stderr",
          "text": [
            "/usr/local/lib/python3.10/dist-packages/sklearn/base.py:432: UserWarning: X has feature names, but RandomForestClassifier was fitted without feature names\n",
            "  warnings.warn(\n"
          ]
        }
      ]
    },
    {
      "cell_type": "code",
      "source": [],
      "metadata": {
        "id": "3PMVK4rYQwrU"
      },
      "execution_count": null,
      "outputs": []
    }
  ]
}